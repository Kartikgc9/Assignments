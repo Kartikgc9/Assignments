{
  "nbformat": 4,
  "nbformat_minor": 0,
  "metadata": {
    "colab": {
      "provenance": [],
      "authorship_tag": "ABX9TyO3P07+J2OK+gVTTWyN9Gds",
      "include_colab_link": true
    },
    "kernelspec": {
      "name": "python3",
      "display_name": "Python 3"
    },
    "language_info": {
      "name": "python"
    }
  },
  "cells": [
    {
      "cell_type": "markdown",
      "metadata": {
        "id": "view-in-github",
        "colab_type": "text"
      },
      "source": [
        "<a href=\"https://colab.research.google.com/github/Kartikgc9/Assignments/blob/main/Assignment1_1.ipynb\" target=\"_parent\"><img src=\"https://colab.research.google.com/assets/colab-badge.svg\" alt=\"Open In Colab\"/></a>"
      ]
    },
    {
      "cell_type": "code",
      "execution_count": null,
      "metadata": {
        "colab": {
          "base_uri": "https://localhost:8080/"
        },
        "id": "mRcCaVLzGlIX",
        "outputId": "209645b6-b8ef-4a64-98c9-b3931bcbb267"
      },
      "outputs": [
        {
          "output_type": "stream",
          "name": "stdout",
          "text": [
            "Kartik Awadh Yadav\n"
          ]
        }
      ],
      "source": [
        "print(\"Kartik Awadh Yadav\")"
      ]
    },
    {
      "cell_type": "markdown",
      "source": [
        "ASSIGNMENT 1.1"
      ],
      "metadata": {
        "id": "HSFkFgt_Kwh7"
      }
    },
    {
      "cell_type": "code",
      "source": [
        "a = \"Kartik Awadh Yadav\"\n",
        "b = \"Name\"\n",
        "b = a * 3                   #assignment1.1\n",
        "print(b)"
      ],
      "metadata": {
        "colab": {
          "base_uri": "https://localhost:8080/"
        },
        "id": "5TDW7FB4HOu_",
        "outputId": "ba8783fb-d33c-4956-8cb9-781cace1af9b"
      },
      "execution_count": null,
      "outputs": [
        {
          "output_type": "stream",
          "name": "stdout",
          "text": [
            "Kartik Awadh YadavKartik Awadh YadavKartik Awadh Yadav\n"
          ]
        }
      ]
    },
    {
      "cell_type": "code",
      "source": [
        "a = 100\n",
        "b = 234\n",
        "c = a + b\n",
        "print(c)"
      ],
      "metadata": {
        "colab": {
          "base_uri": "https://localhost:8080/"
        },
        "id": "zrUFSiqyH-J2",
        "outputId": "da96c147-a1fe-4b0b-a127-349c74e2d8f3"
      },
      "execution_count": null,
      "outputs": [
        {
          "output_type": "stream",
          "name": "stdout",
          "text": [
            "334\n"
          ]
        }
      ]
    },
    {
      "cell_type": "code",
      "source": [
        "a = \"Kartik\"\n",
        "b = \"Awadh\"\n",
        "c = a + b\n",
        "print(c)"
      ],
      "metadata": {
        "colab": {
          "base_uri": "https://localhost:8080/"
        },
        "id": "6S2EyjN8IRpx",
        "outputId": "397dc914-702e-44ea-eeb7-76c73d14e7f0"
      },
      "execution_count": null,
      "outputs": [
        {
          "output_type": "stream",
          "name": "stdout",
          "text": [
            "KartikAwadh\n"
          ]
        }
      ]
    },
    {
      "cell_type": "code",
      "source": [
        "a = \"Kartik\"\n",
        "b = 123\n",
        "c = a + str(b)\n",
        "print(c)"
      ],
      "metadata": {
        "colab": {
          "base_uri": "https://localhost:8080/"
        },
        "id": "psNv5iPcKNey",
        "outputId": "441bbdfa-abcc-4c76-bec4-fbd10a620a5a"
      },
      "execution_count": null,
      "outputs": [
        {
          "output_type": "stream",
          "name": "stdout",
          "text": [
            "Kartik123\n"
          ]
        }
      ]
    },
    {
      "cell_type": "markdown",
      "source": [
        "ASSIGNMENT 2.1"
      ],
      "metadata": {
        "id": "GPz9EZ_tKtdO"
      }
    },
    {
      "cell_type": "code",
      "source": [
        "a = 342\n",
        "b = 567\n",
        "c = 56                #assignment2.1\n",
        "d = a + b + c\n",
        "print(d)"
      ],
      "metadata": {
        "colab": {
          "base_uri": "https://localhost:8080/"
        },
        "id": "yIyh182gKfN0",
        "outputId": "a89b8c7d-2aa3-40b1-9d8d-21316b7565bb"
      },
      "execution_count": null,
      "outputs": [
        {
          "output_type": "stream",
          "name": "stdout",
          "text": [
            "965\n"
          ]
        }
      ]
    },
    {
      "cell_type": "markdown",
      "source": [
        "ASSIGNMENT 2.2"
      ],
      "metadata": {
        "id": "FtMeuxPXK0HG"
      }
    },
    {
      "cell_type": "code",
      "source": [
        "a = \"Kartik\"\n",
        "b = \"Awadh\"\n",
        "c = \"Yadav\"           #assignment 2.2\n",
        "d = a + b + c\n",
        "print(d)"
      ],
      "metadata": {
        "colab": {
          "base_uri": "https://localhost:8080/"
        },
        "id": "rg3gbVGQKr5y",
        "outputId": "99a436ab-0956-4283-f51b-4676e7b76a9a"
      },
      "execution_count": null,
      "outputs": [
        {
          "output_type": "stream",
          "name": "stdout",
          "text": [
            "KartikAwadhYadav\n"
          ]
        }
      ]
    },
    {
      "cell_type": "code",
      "source": [
        "a = input(\"enter first number: \")\n",
        "b = input(\"enter second number: \")\n",
        "c = a + b\n",
        "print(a , \"+\" , b , \"=>\" , c)"
      ],
      "metadata": {
        "colab": {
          "base_uri": "https://localhost:8080/"
        },
        "id": "EpKG9SqBK75j",
        "outputId": "d50b430a-7663-4509-b57f-a85e75f2f7ce"
      },
      "execution_count": null,
      "outputs": [
        {
          "output_type": "stream",
          "name": "stdout",
          "text": [
            "enter first number: 34\n",
            "enter second number: 32\n",
            "34 + 32 => 3432\n"
          ]
        }
      ]
    },
    {
      "cell_type": "code",
      "source": [
        "a = int(input(\"Enter first number: \"))\n",
        "b = int(input(\"Enter second number: \"))\n",
        "c = a + b\n",
        "print(a , \"+\" , b , \"=>\" , )"
      ],
      "metadata": {
        "colab": {
          "base_uri": "https://localhost:8080/"
        },
        "id": "X5UAOxqwNA0S",
        "outputId": "d4d52454-9304-46d2-8a40-46f46f59ec9b"
      },
      "execution_count": null,
      "outputs": [
        {
          "output_type": "stream",
          "name": "stdout",
          "text": [
            "Enter first number: 9\n",
            "Enter second number: 8\n",
            "9 + 8 => 17\n"
          ]
        }
      ]
    },
    {
      "cell_type": "markdown",
      "source": [
        "**LOOP**"
      ],
      "metadata": {
        "id": "kLEY78ylPAeP"
      }
    },
    {
      "cell_type": "code",
      "source": [
        "i = 1\n",
        "while i <= 10:\n",
        "  print(i)\n",
        "  i = i + 1"
      ],
      "metadata": {
        "colab": {
          "base_uri": "https://localhost:8080/"
        },
        "id": "Ni4QB0dSOBIr",
        "outputId": "afaa0c3d-8e55-41ff-d83b-0471518b0e68"
      },
      "execution_count": null,
      "outputs": [
        {
          "output_type": "stream",
          "name": "stdout",
          "text": [
            "1\n",
            "2\n",
            "3\n",
            "4\n",
            "5\n",
            "6\n",
            "7\n",
            "8\n",
            "9\n",
            "10\n"
          ]
        }
      ]
    },
    {
      "cell_type": "code",
      "source": [
        "i = 1\n",
        "while i <= 16:\n",
        "  print(i)\n",
        "  i = i + 1"
      ],
      "metadata": {
        "colab": {
          "base_uri": "https://localhost:8080/"
        },
        "id": "w673ipC9OYYi",
        "outputId": "105b16ff-030b-4da6-c8e7-b10ca3bb9e2d"
      },
      "execution_count": null,
      "outputs": [
        {
          "output_type": "stream",
          "name": "stdout",
          "text": [
            "1\n",
            "2\n",
            "3\n",
            "4\n",
            "5\n",
            "6\n",
            "7\n",
            "8\n",
            "9\n",
            "10\n",
            "11\n",
            "12\n",
            "13\n",
            "14\n",
            "15\n",
            "16\n"
          ]
        }
      ]
    },
    {
      "cell_type": "markdown",
      "source": [
        "RANGE **FUNCTION**"
      ],
      "metadata": {
        "id": "an2ewnjuQcAh"
      }
    },
    {
      "cell_type": "code",
      "source": [
        "print (\"range(10)     ---> \" , list(range(10)))\n",
        "print (\"range(10,20)  ---> \" , list(range(10,20)))\n",
        "print (\"range(0,20,2) ---> \" , list(range(0,20,2)))\n"
      ],
      "metadata": {
        "colab": {
          "base_uri": "https://localhost:8080/"
        },
        "id": "cFFNQNK7O_HX",
        "outputId": "7f32c10d-c561-4f96-ad51-4afa289933b0"
      },
      "execution_count": null,
      "outputs": [
        {
          "output_type": "stream",
          "name": "stdout",
          "text": [
            "range(10)     --->  [0, 1, 2, 3, 4, 5, 6, 7, 8, 9]\n",
            "range(10,20)  --->  [10, 11, 12, 13, 14, 15, 16, 17, 18, 19]\n",
            "range(0,20,2) --->  [0, 2, 4, 6, 8, 10, 12, 14, 16, 18]\n"
          ]
        }
      ]
    },
    {
      "cell_type": "markdown",
      "source": [
        "FOR **LOOP**"
      ],
      "metadata": {
        "id": "kkocFGg0RDS4"
      }
    },
    {
      "cell_type": "code",
      "source": [
        "for i in range(0,10):\n",
        "  print(i)"
      ],
      "metadata": {
        "id": "oQypr65RRFfR",
        "colab": {
          "base_uri": "https://localhost:8080/"
        },
        "outputId": "9003d22d-8e2c-454d-bb2d-83388dcd6ac6"
      },
      "execution_count": null,
      "outputs": [
        {
          "output_type": "stream",
          "name": "stdout",
          "text": [
            "0\n",
            "1\n",
            "2\n",
            "3\n",
            "4\n",
            "5\n",
            "6\n",
            "7\n",
            "8\n",
            "9\n"
          ]
        }
      ]
    },
    {
      "cell_type": "code",
      "source": [
        "for i in range(0,20,2):\n",
        "  print(i)"
      ],
      "metadata": {
        "colab": {
          "base_uri": "https://localhost:8080/"
        },
        "id": "EdR9eQzEuNmv",
        "outputId": "b8bc4cb4-d341-4bfe-bdbe-94ec9ffcfed9"
      },
      "execution_count": null,
      "outputs": [
        {
          "output_type": "stream",
          "name": "stdout",
          "text": [
            "0\n",
            "2\n",
            "4\n",
            "6\n",
            "8\n",
            "10\n",
            "12\n",
            "14\n",
            "16\n",
            "18\n"
          ]
        }
      ]
    },
    {
      "cell_type": "code",
      "source": [
        "for i in range(0,-10,-1):\n",
        "  print(i)"
      ],
      "metadata": {
        "colab": {
          "base_uri": "https://localhost:8080/"
        },
        "id": "qHhj4GueuWuZ",
        "outputId": "4dd45fbd-1bd0-4648-9708-dcba04643c5b"
      },
      "execution_count": null,
      "outputs": [
        {
          "output_type": "stream",
          "name": "stdout",
          "text": [
            "0\n",
            "-1\n",
            "-2\n",
            "-3\n",
            "-4\n",
            "-5\n",
            "-6\n",
            "-7\n",
            "-8\n",
            "-9\n"
          ]
        }
      ]
    },
    {
      "cell_type": "code",
      "source": [
        "for i in range(1,11):\n",
        "  print(5,\"*\" , i , \" = \" , i * 5)"
      ],
      "metadata": {
        "colab": {
          "base_uri": "https://localhost:8080/"
        },
        "id": "n5TzwiBGue96",
        "outputId": "6f8732c9-59cf-4dd4-ae05-f8856fe44f2a"
      },
      "execution_count": null,
      "outputs": [
        {
          "output_type": "stream",
          "name": "stdout",
          "text": [
            "5 * 1  =  5\n",
            "5 * 2  =  10\n",
            "5 * 3  =  15\n",
            "5 * 4  =  20\n",
            "5 * 5  =  25\n",
            "5 * 6  =  30\n",
            "5 * 7  =  35\n",
            "5 * 8  =  40\n",
            "5 * 9  =  45\n",
            "5 * 10  =  50\n"
          ]
        }
      ]
    },
    {
      "cell_type": "code",
      "source": [
        "s = 0\n",
        "for i in range(1,11):\n",
        "  s = s + i\n",
        "  print(\"sum is --> \" , s)"
      ],
      "metadata": {
        "colab": {
          "base_uri": "https://localhost:8080/"
        },
        "id": "WS825LMhvuNk",
        "outputId": "7363dbcc-ae5d-4b4a-d7e4-345e976f2fbd"
      },
      "execution_count": null,
      "outputs": [
        {
          "output_type": "stream",
          "name": "stdout",
          "text": [
            "sum is -->  1\n",
            "sum is -->  3\n",
            "sum is -->  6\n",
            "sum is -->  10\n",
            "sum is -->  15\n",
            "sum is -->  21\n",
            "sum is -->  28\n",
            "sum is -->  36\n",
            "sum is -->  45\n",
            "sum is -->  55\n"
          ]
        }
      ]
    },
    {
      "cell_type": "code",
      "source": [
        "print(\"sum is -- > \" , sum(range(1,11)))"
      ],
      "metadata": {
        "colab": {
          "base_uri": "https://localhost:8080/"
        },
        "id": "8qzkkEmmwGZx",
        "outputId": "5ed96d40-3f7f-438a-8bdd-85bc7a9f19b6"
      },
      "execution_count": null,
      "outputs": [
        {
          "output_type": "stream",
          "name": "stdout",
          "text": [
            "sum is -- >  55\n"
          ]
        }
      ]
    },
    {
      "cell_type": "markdown",
      "source": [
        "ASSIGNMENT **4.1**"
      ],
      "metadata": {
        "id": "3BUqti2HwPp6"
      }
    },
    {
      "cell_type": "code",
      "source": [
        "for i in range(1,11):\n",
        "  print(7 ,\" * \" , i , \"=\" , i * 7)"
      ],
      "metadata": {
        "colab": {
          "base_uri": "https://localhost:8080/"
        },
        "id": "d7SBwCsowN6S",
        "outputId": "34d605da-e460-44dd-fe47-b5bf75265286"
      },
      "execution_count": null,
      "outputs": [
        {
          "output_type": "stream",
          "name": "stdout",
          "text": [
            "7  *  1 = 7\n",
            "7  *  2 = 14\n",
            "7  *  3 = 21\n",
            "7  *  4 = 28\n",
            "7  *  5 = 35\n",
            "7  *  6 = 42\n",
            "7  *  7 = 49\n",
            "7  *  8 = 56\n",
            "7  *  9 = 63\n",
            "7  *  10 = 70\n"
          ]
        }
      ]
    },
    {
      "cell_type": "markdown",
      "source": [
        "ASSIGNMENT **4.2**"
      ],
      "metadata": {
        "id": "UVeozR98wiGK"
      }
    },
    {
      "cell_type": "code",
      "source": [
        "n = int(input(\"Enter the value of n: \"))\n",
        "for i in range(1,11):\n",
        "  print(n , \"*\" , i , \"=\" , n * i)"
      ],
      "metadata": {
        "colab": {
          "base_uri": "https://localhost:8080/"
        },
        "id": "UubwAkbmwlKF",
        "outputId": "602e6474-f027-47ff-db7e-85e6b3a72ca1"
      },
      "execution_count": null,
      "outputs": [
        {
          "output_type": "stream",
          "name": "stdout",
          "text": [
            "Enter the value of n: 7\n",
            "7 * 1 = 7\n",
            "7 * 2 = 14\n",
            "7 * 3 = 21\n",
            "7 * 4 = 28\n",
            "7 * 5 = 35\n",
            "7 * 6 = 42\n",
            "7 * 7 = 49\n",
            "7 * 8 = 56\n",
            "7 * 9 = 63\n",
            "7 * 10 = 70\n"
          ]
        }
      ]
    },
    {
      "cell_type": "code",
      "source": [
        "n = int(input(\"Enter the number n: \"))\n",
        "for i in range(1,n):\n",
        "  i = 1\n",
        "  c = i + n             #sum of numbers from 1 to n.\n",
        "  print(c)"
      ],
      "metadata": {
        "colab": {
          "base_uri": "https://localhost:8080/"
        },
        "id": "v5d8sF6wyQD4",
        "outputId": "a42fd681-1baa-4414-904f-80cc02c8eb22"
      },
      "execution_count": null,
      "outputs": [
        {
          "output_type": "stream",
          "name": "stdout",
          "text": [
            "Enter the number n: 5\n",
            "6\n",
            "6\n",
            "6\n",
            "6\n"
          ]
        }
      ]
    },
    {
      "cell_type": "markdown",
      "source": [
        "# IF-ELSE **LOOPS**"
      ],
      "metadata": {
        "id": "HeQja_cVy8SR"
      }
    },
    {
      "cell_type": "code",
      "source": [
        "a = int(input(\"Enter first no: \"))\n",
        "b = int(input(\"Enter second no: \"))\n",
        "if a > b:\n",
        "  print(a , \" > \" , b)\n",
        "else:\n",
        "  print(a , \" < \" , b)  "
      ],
      "metadata": {
        "colab": {
          "base_uri": "https://localhost:8080/"
        },
        "id": "kmxQTlWpyzg2",
        "outputId": "6b8c8bbc-3b93-4596-c618-ebe50b1b0cb6"
      },
      "execution_count": null,
      "outputs": [
        {
          "output_type": "stream",
          "name": "stdout",
          "text": [
            "Enter first no: 8\n",
            "Enter second no: 9\n",
            "8  <  9\n"
          ]
        }
      ]
    },
    {
      "cell_type": "code",
      "source": [
        "n = int(input(\"Enter the number: \"))\n",
        "if n % 2 == 0:\n",
        "  print(\"n is even\")            #whether a number is odd or even.\n",
        "else:\n",
        "  print(\"n is odd\")  "
      ],
      "metadata": {
        "colab": {
          "base_uri": "https://localhost:8080/"
        },
        "id": "CLRAzEjO1e6l",
        "outputId": "3e1d30e7-edda-4482-905f-abf2af280bb6"
      },
      "execution_count": null,
      "outputs": [
        {
          "output_type": "stream",
          "name": "stdout",
          "text": [
            "Enter the number: 5\n",
            "n is odd\n"
          ]
        }
      ]
    },
    {
      "cell_type": "code",
      "source": [
        "# To check whether a no is prime or not.\n",
        "n = int(input(\"Enter the number: \"))\n",
        "f = 0\n",
        "for i in range(2, n//2 + 1):\n",
        "  if n % i == 0:\n",
        "    f = 1\n",
        "    break\n",
        "if f == 0:\n",
        "    print(\"Prime\")\n",
        "\n",
        "else:\n",
        "    print(\"Not Prime\")"
      ],
      "metadata": {
        "colab": {
          "base_uri": "https://localhost:8080/"
        },
        "id": "iXS0FDyq1wqV",
        "outputId": "a403d3bc-4404-42c2-a385-dd5f9c8bf8b2"
      },
      "execution_count": null,
      "outputs": [
        {
          "output_type": "stream",
          "name": "stdout",
          "text": [
            "Enter the number: 89\n",
            "Prime\n"
          ]
        }
      ]
    },
    {
      "cell_type": "code",
      "source": [],
      "metadata": {
        "id": "2JOUIwMK3PzL"
      },
      "execution_count": null,
      "outputs": []
    }
  ]
}