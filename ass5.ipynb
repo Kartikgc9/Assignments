{
  "nbformat": 4,
  "nbformat_minor": 0,
  "metadata": {
    "colab": {
      "provenance": [],
      "authorship_tag": "ABX9TyMJZDXiG+HoxIwXSKrRn1to",
      "include_colab_link": true
    },
    "kernelspec": {
      "name": "python3",
      "display_name": "Python 3"
    },
    "language_info": {
      "name": "python"
    }
  },
  "cells": [
    {
      "cell_type": "markdown",
      "metadata": {
        "id": "view-in-github",
        "colab_type": "text"
      },
      "source": [
        "<a href=\"https://colab.research.google.com/github/Kartikgc9/Assignments/blob/main/ass5.ipynb\" target=\"_parent\"><img src=\"https://colab.research.google.com/assets/colab-badge.svg\" alt=\"Open In Colab\"/></a>"
      ]
    },
    {
      "cell_type": "markdown",
      "source": [
        "TO FIND OUT MAXIUMU AMONG THREE **NUMBERS**"
      ],
      "metadata": {
        "id": "L78x9uxWuD4m"
      }
    },
    {
      "cell_type": "code",
      "execution_count": null,
      "metadata": {
        "id": "toKZY_8uj_rI"
      },
      "outputs": [],
      "source": [
        "def max(a , b , c):\n",
        "  list = [a,b,c]\n",
        "  return max(list)\n",
        "a = input(\"enter first number: \")\n",
        "b = input(\"enter second number: \")\n",
        "c = input(\"enter third number: \")\n",
        "print(\"maximum number is :: >\" , max(a,b,c))\n"
      ]
    },
    {
      "cell_type": "markdown",
      "source": [
        "**bold text**WAP to add all numbers divisible by 7 and 9 from 1 to n and n is given by the user."
      ],
      "metadata": {
        "id": "dV1PHsBhvZ3X"
      }
    },
    {
      "cell_type": "code",
      "source": [
        "def add_divisible_no(n):\n",
        "  total_sum = 0\n",
        "  for num in range(1, n + 1):\n",
        "    if num % 7 == 0 and num % 9 == 0:\n",
        "      total_sum += num\n",
        "  return total_sum\n",
        "n = int(input(\"enter the number (n): \"))\n",
        "result = add_divisible_no(n)     \n",
        "print(\"sum of numbers divisible by 7 and 9 from 1 to\" , n ,\"is\" , result) "
      ],
      "metadata": {
        "colab": {
          "base_uri": "https://localhost:8080/"
        },
        "id": "rRlH0Lqt1gi7",
        "outputId": "06eac73e-f157-40be-8494-421321666f43"
      },
      "execution_count": null,
      "outputs": [
        {
          "output_type": "stream",
          "name": "stdout",
          "text": [
            "enter the number (n): 67\n",
            "sum of numbers divisible by 7 and 9 from 1 to 67 is 63\n"
          ]
        }
      ]
    },
    {
      "cell_type": "markdown",
      "source": [
        "**bold text**WAP to add all prime numbers from 1 to n and n is given by the user."
      ],
      "metadata": {
        "id": "WgomCMLt2l58"
      }
    },
    {
      "cell_type": "code",
      "source": [
        "def is_prime(num):\n",
        "  if num < 2:\n",
        "    return false\n",
        "  for i in range(2 , int(num ** 0.5) + 1):\n",
        "    if num % i == 0:\n",
        "      return False\n",
        "  return true\n",
        "def add_prime_number(n):\n",
        "  total_sum = 0\n",
        "  for num in range(2 , n + 1):\n",
        "    if is_prime(num):\n",
        "      total_sum += num\n",
        "  return total_sum \n",
        "  n = int(input(\"enter the number(n): \"))\n",
        "  result = add_prime_numbers(n)\n",
        "  print(\"sum of numbers from 1 to\" , n , \"is\" , result)        "
      ],
      "metadata": {
        "id": "ABoLqsQI6ZDs"
      },
      "execution_count": null,
      "outputs": []
    }
  ]
}